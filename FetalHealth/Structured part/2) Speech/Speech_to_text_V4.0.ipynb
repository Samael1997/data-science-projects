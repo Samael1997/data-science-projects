{
 "cells": [
  {
   "cell_type": "code",
   "execution_count": 17,
   "id": "62534524",
   "metadata": {},
   "outputs": [],
   "source": [
    "#pip install --upgrade google-cloud-speech\n",
    "#pip install --upgrade google-cloud-storage"
   ]
  },
  {
   "cell_type": "code",
   "execution_count": 18,
   "id": "2082607c",
   "metadata": {},
   "outputs": [],
   "source": [
    "# Imports the Google Cloud client library\n",
    "from google.cloud import speech\n",
    "from google.cloud import storage\n",
    "import os\n",
    "\n",
    "credential_path = \"speech-341111-73de2d85caac.json\"\n",
    "#credential_path = \"PATH\\\\speech-341111-73de2d85caac.json\"\n",
    "\n",
    "os.environ['GOOGLE_APPLICATION_CREDENTIALS'] = credential_path\n",
    "\n",
    "# Instantiates a client\n",
    "client = speech.SpeechClient()\n",
    "\n",
    "def generate_transcription(gcs_uri,time):\n",
    "\n",
    "    audio = speech.RecognitionAudio(uri=gcs_uri)\n",
    "\n",
    "    config = speech.RecognitionConfig(\n",
    "        encoding=speech.RecognitionConfig.AudioEncoding.FLAC,\n",
    "        language_code=\"en-US\",\n",
    "        audio_channel_count = 2,\n",
    "    )\n",
    "\n",
    "    operation = client.long_running_recognize(config=config, audio=audio)\n",
    "\n",
    "    print(\"Waiting for operation to complete...\")\n",
    "    response = operation.result(timeout=time)\n",
    "\n",
    "    #for result in response.results:\n",
    "        #print(\"Transcript: {}\".format(result.alternatives[0].transcript))\n",
    "    return response.results"
   ]
  },
  {
   "cell_type": "code",
   "execution_count": 37,
   "id": "1d4b174e",
   "metadata": {},
   "outputs": [
    {
     "name": "stdout",
     "output_type": "stream",
     "text": [
      "[<Bucket: bucket_python00>]\n"
     ]
    }
   ],
   "source": [
    "# UPLOAD FILE AUDIO SUL SERVER GOOGLE\n",
    "\n",
    "storage_client = storage.Client()\n",
    "\n",
    "buckets = list(storage_client.list_buckets())\n",
    "\n",
    "bucket = storage_client.get_bucket(\"bucket_python00\")\n",
    "\n",
    "blob = bucket.blob('Test.flac')\n",
    "blob.upload_from_filename('D:/Test.flac')\n",
    "print(buckets)"
   ]
  },
  {
   "cell_type": "code",
   "execution_count": 28,
   "id": "651e7996",
   "metadata": {},
   "outputs": [],
   "source": [
    "# Il doc1 dura circa 18 minuti "
   ]
  },
  {
   "cell_type": "code",
   "execution_count": 10,
   "id": "78c0774f",
   "metadata": {},
   "outputs": [
    {
     "name": "stdout",
     "output_type": "stream",
     "text": [
      "Waiting for operation to complete...\n"
     ]
    }
   ],
   "source": [
    "# Doc1\n",
    "doc1 = generate_transcription(\"gs://test_bucket_000p/audio-files/The top 10 questions about pregnancy and birth answered.flac\",300)"
   ]
  },
  {
   "cell_type": "code",
   "execution_count": 11,
   "id": "f593f4db",
   "metadata": {},
   "outputs": [],
   "source": [
    "with open('doc1.txt','w') as file:\n",
    "    for res in doc1:\n",
    "        file.write(res.alternatives[0].transcript)\n",
    "        file.write(\"\\n\")"
   ]
  },
  {
   "cell_type": "code",
   "execution_count": 27,
   "id": "0046dfc8",
   "metadata": {},
   "outputs": [],
   "source": [
    "# Il doc2 dura circa 3 minuti"
   ]
  },
  {
   "cell_type": "code",
   "execution_count": 8,
   "id": "961a6197",
   "metadata": {},
   "outputs": [
    {
     "name": "stdout",
     "output_type": "stream",
     "text": [
      "Waiting for operation to complete...\n"
     ]
    }
   ],
   "source": [
    "# Doc2\n",
    "doc2 = generate_transcription(\"gs://test_bucket_000p/audio-files/Doctor _ Patient C-Section Discussion (w_ subtitles) _ My Birth Matters.flac\",90)"
   ]
  },
  {
   "cell_type": "code",
   "execution_count": 9,
   "id": "fc7aeabd",
   "metadata": {},
   "outputs": [],
   "source": [
    "with open('doc2.txt','w') as file:\n",
    "    for res in doc2:\n",
    "        file.write(res.alternatives[0].transcript)\n",
    "        file.write(\"\\n\")"
   ]
  },
  {
   "cell_type": "code",
   "execution_count": 1,
   "id": "cd4496d2",
   "metadata": {},
   "outputs": [],
   "source": [
    "# Il doc3 dura circa 7 minuti"
   ]
  },
  {
   "cell_type": "code",
   "execution_count": 4,
   "id": "cd8295dc",
   "metadata": {},
   "outputs": [
    {
     "name": "stdout",
     "output_type": "stream",
     "text": [
      "Waiting for operation to complete...\n"
     ]
    }
   ],
   "source": [
    "# Doc 3\n",
    "doc3 = generate_transcription(\"gs://test_bucket_000p/audio-files/Pregnancy questions and answers.flac\",90)"
   ]
  },
  {
   "cell_type": "code",
   "execution_count": 5,
   "id": "ad867424",
   "metadata": {},
   "outputs": [],
   "source": [
    "with open('doc3.txt','w') as file:\n",
    "    for res in doc3:\n",
    "        file.write(res.alternatives[0].transcript)\n",
    "        file.write(\"\\n\")"
   ]
  },
  {
   "cell_type": "code",
   "execution_count": 6,
   "id": "4e050349",
   "metadata": {},
   "outputs": [],
   "source": [
    "# Il doc4 dura circa 3 minuti"
   ]
  },
  {
   "cell_type": "code",
   "execution_count": 7,
   "id": "85c2938a",
   "metadata": {},
   "outputs": [
    {
     "name": "stdout",
     "output_type": "stream",
     "text": [
      "Waiting for operation to complete...\n"
     ]
    }
   ],
   "source": [
    "# Doc 4\n",
    "doc4 = generate_transcription(\"gs://test_bucket_000p/audio-files/Pregnancy Frequently Asked Questions.flac\",90)"
   ]
  },
  {
   "cell_type": "code",
   "execution_count": 9,
   "id": "cbe90a7f",
   "metadata": {},
   "outputs": [],
   "source": [
    "with open('doc4.txt','w') as file:\n",
    "    for res in doc4:\n",
    "        file.write(res.alternatives[0].transcript)\n",
    "        file.write(\"\\n\")"
   ]
  },
  {
   "cell_type": "code",
   "execution_count": 8,
   "id": "84121028",
   "metadata": {},
   "outputs": [],
   "source": [
    "# Il doc5 dura circa 2 minuti"
   ]
  },
  {
   "cell_type": "code",
   "execution_count": 10,
   "id": "5bb37d25",
   "metadata": {},
   "outputs": [
    {
     "name": "stdout",
     "output_type": "stream",
     "text": [
      "Waiting for operation to complete...\n"
     ]
    }
   ],
   "source": [
    "# Doc 5\n",
    "doc5 = generate_transcription(\"gs://test_bucket_000p/audio-files/Real Questions _ Pregnancy and Labor _ UCLA OB_GYN.flac\",90)"
   ]
  },
  {
   "cell_type": "code",
   "execution_count": 11,
   "id": "78b9aca6",
   "metadata": {},
   "outputs": [],
   "source": [
    "with open('doc5.txt','w') as file:\n",
    "    for res in doc5:\n",
    "        file.write(res.alternatives[0].transcript)\n",
    "        file.write(\"\\n\")"
   ]
  },
  {
   "cell_type": "code",
   "execution_count": null,
   "id": "3e6fa896",
   "metadata": {},
   "outputs": [],
   "source": []
  },
  {
   "cell_type": "code",
   "execution_count": null,
   "id": "34c12fd2",
   "metadata": {},
   "outputs": [],
   "source": []
  }
 ],
 "metadata": {
  "kernelspec": {
   "display_name": "Python 3 (ipykernel)",
   "language": "python",
   "name": "python3"
  },
  "language_info": {
   "codemirror_mode": {
    "name": "ipython",
    "version": 3
   },
   "file_extension": ".py",
   "mimetype": "text/x-python",
   "name": "python",
   "nbconvert_exporter": "python",
   "pygments_lexer": "ipython3",
   "version": "3.9.7"
  }
 },
 "nbformat": 4,
 "nbformat_minor": 5
}
